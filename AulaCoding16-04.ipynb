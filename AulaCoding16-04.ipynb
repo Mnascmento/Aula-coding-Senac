{
 "cells": [
  {
   "cell_type": "code",
   "execution_count": 5,
   "metadata": {},
   "outputs": [
    {
     "name": "stdout",
     "output_type": "stream",
     "text": [
      "Valor com impostos: 2.0\n"
     ]
    }
   ],
   "source": [
    "anoCarro = int(input(\"Informe o ano do veículo que deseja comprar\"))\n",
    "valorCarro = float(input(\"Informa o valor de compra do veículo:\"))\n",
    "\n",
    "if anoCarro < 1990:\n",
    "    imposto = valorCarro*0.001\n",
    "    print(\"Valor com impostos:\", imposto)\n",
    "else: \n",
    "    imposto = valorCarro*0.015\n",
    "    print(\"Valor com imposto:\", imposto)"
   ]
  },
  {
   "cell_type": "code",
   "execution_count": 7,
   "metadata": {},
   "outputs": [
    {
     "name": "stdout",
     "output_type": "stream",
     "text": [
      "Seu novo salário: 2200.0\n",
      "Antigo salário: 2000.0\n",
      "A diferença entre eles foi: 200.0\n"
     ]
    }
   ],
   "source": [
    "cargo = int(input(\"Informe código do cargo\"))\n",
    "salario = float(input(\"Informe o salário do cargo\"))\n",
    "\n",
    "if cargo == 101:\n",
    "    novoSalario = salario + (salario*10/100)\n",
    "    print (\"Seu novo salário:\",novoSalario)\n",
    "    print (\"Antigo salário:\", salario)\n",
    "    print (\"A diferença entre eles foi:\", novoSalario - salario)\n",
    "elif cargo == 102:\n",
    "    novoSalario = salario + (salario*20/100)\n",
    "    print (novoSalario)\n",
    "    print (\"Antigo salário:\", salario)\n",
    "    print (\"A diferença entre eles foi:\", novoSalario - salario)\n",
    "elif cargo == 103:\n",
    "    novoSalario = salario + (salario*30/100)\n",
    "    print (\"Seu novo salário:\",novoSalario)\n",
    "    print (\"Antigo salário:\", salario)\n",
    "    print (\"A diferença entre eles foi:\", novoSalario - salario)\n",
    "else:\n",
    "    novoSalario = salario + (salario*40/100)\n",
    "    print (\"Seu novo salário:\",novoSalario)\n",
    "    print (\"Antigo salário:\", salario)\n",
    "    print (\"A diferença entre eles foi:\", novoSalario - salario)\n"
   ]
  },
  {
   "cell_type": "code",
   "execution_count": null,
   "metadata": {},
   "outputs": [],
   "source": []
  }
 ],
 "metadata": {
  "kernelspec": {
   "display_name": "Python 3",
   "language": "python",
   "name": "python3"
  },
  "language_info": {
   "codemirror_mode": {
    "name": "ipython",
    "version": 3
   },
   "file_extension": ".py",
   "mimetype": "text/x-python",
   "name": "python",
   "nbconvert_exporter": "python",
   "pygments_lexer": "ipython3",
   "version": "3.12.3"
  }
 },
 "nbformat": 4,
 "nbformat_minor": 2
}
