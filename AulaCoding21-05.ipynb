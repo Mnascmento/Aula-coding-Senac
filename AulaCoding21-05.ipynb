{
 "cells": [
  {
   "cell_type": "code",
   "execution_count": 16,
   "metadata": {},
   "outputs": [
    {
     "name": "stdout",
     "output_type": "stream",
     "text": [
      "10 patinhos foram passear, além das montanhas para brincar. A mamãe chamou quá quá quá quá.\n",
      "Mas só 9 voltaram de lá\n",
      "Mas só 8 voltaram de lá\n",
      "Mas só 7 voltaram de lá\n",
      "Mas só 6 voltaram de lá\n",
      "Mas só 5 voltaram de lá\n",
      "Mas só 4 voltaram de lá\n",
      "Mas só 3 voltaram de lá\n",
      "Mas só 2 voltaram de lá\n",
      "Mas só 1 voltaram de lá\n",
      "Mas só 0 voltaram de lá\n",
      "Mas nem um patinho voltou de lá\n"
     ]
    }
   ],
   "source": [
    "patinhos = 10\n",
    "\n",
    "print(patinhos, \"patinhos foram passear, além das montanhas para brincar. A mamãe chamou quá quá quá quá.\")\n",
    "while patinhos >= 1:\n",
    "    patinhos -= 1\n",
    "    print(\"Mas só\", patinhos, \"voltaram de lá\")\n",
    "    if patinhos == 0:\n",
    "        print (\"Mas nem um patinho voltou de lá\")\n",
    "    "
   ]
  },
  {
   "cell_type": "code",
   "execution_count": 42,
   "metadata": {},
   "outputs": [
    {
     "name": "stdout",
     "output_type": "stream",
     "text": [
      "1 elefante incomodam muita gente\n",
      "2 elefantes incomodam incomodam  muito mais\n",
      "2 elefante incomodam muita gente\n",
      "3 elefantes incomodam incomodam incomodam  muito mais\n",
      "3 elefante incomodam muita gente\n",
      "4 elefantes incomodam incomodam incomodam incomodam  muito mais\n",
      "4 elefante incomodam muita gente\n",
      "5 elefantes incomodam incomodam incomodam incomodam incomodam  muito mais\n",
      "5 elefante incomodam muita gente\n",
      "6 elefantes incomodam incomodam incomodam incomodam incomodam incomodam  muito mais\n",
      "6 elefante incomodam muita gente\n",
      "7 elefantes incomodam incomodam incomodam incomodam incomodam incomodam incomodam  muito mais\n",
      "7 elefante incomodam muita gente\n",
      "8 elefantes incomodam incomodam incomodam incomodam incomodam incomodam incomodam incomodam  muito mais\n",
      "8 elefante incomodam muita gente\n",
      "9 elefantes incomodam incomodam incomodam incomodam incomodam incomodam incomodam incomodam incomodam  muito mais\n",
      "9 elefante incomodam muita gente\n",
      "10 elefantes incomodam incomodam incomodam incomodam incomodam incomodam incomodam incomodam incomodam incomodam  muito mais\n",
      "10 elefante incomodam muita gente\n",
      "11 elefantes incomodam incomodam incomodam incomodam incomodam incomodam incomodam incomodam incomodam incomodam incomodam  muito mais\n"
     ]
    }
   ],
   "source": [
    "n = [1, 2, 3, 4, 5, 6, 7, 8, 9, 10]\n",
    " \n",
    "for elefantes in n:\n",
    "        print(elefantes, 'elefante incomodam muita gente')\n",
    "        elefantes+=1\n",
    "        print(elefantes, 'elefantes', 'incomodam ' *elefantes, 'muito mais')"
   ]
  }
 ],
 "metadata": {
  "kernelspec": {
   "display_name": "Python 3",
   "language": "python",
   "name": "python3"
  },
  "language_info": {
   "codemirror_mode": {
    "name": "ipython",
    "version": 3
   },
   "file_extension": ".py",
   "mimetype": "text/x-python",
   "name": "python",
   "nbconvert_exporter": "python",
   "pygments_lexer": "ipython3",
   "version": "3.12.3"
  }
 },
 "nbformat": 4,
 "nbformat_minor": 2
}
