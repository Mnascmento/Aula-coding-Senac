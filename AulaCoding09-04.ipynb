{
 "cells": [
  {
   "cell_type": "code",
   "execution_count": 8,
   "metadata": {},
   "outputs": [
    {
     "name": "stdout",
     "output_type": "stream",
     "text": [
      "O número informado foi: 9\n"
     ]
    }
   ],
   "source": [
    "#Faça um programa que peça um número e então mostre a mensagem: \"O número informado foi:\" seguido do número\n",
    "\n",
    "numero= int(input(\"Informe seu número:\"))\n",
    "print(\"O número informado foi:\", numero)"
   ]
  },
  {
   "cell_type": "code",
   "execution_count": 9,
   "metadata": {},
   "outputs": [
    {
     "name": "stdout",
     "output_type": "stream",
     "text": [
      "4\n"
     ]
    }
   ],
   "source": [
    "#Pede dois números e imprime a soma\n",
    "\n",
    "numero1= int(input(\"Informe o primeiro algarítmo:\"))\n",
    "numero2= int(input(\"Algarítmo 2\"))\n",
    "soma= numero1+numero2\n",
    "print(soma)"
   ]
  },
  {
   "cell_type": "code",
   "execution_count": 19,
   "metadata": {},
   "outputs": [
    {
     "ename": "SyntaxError",
     "evalue": "invalid syntax (796305327.py, line 10)",
     "output_type": "error",
     "traceback": [
      "\u001b[1;36m  Cell \u001b[1;32mIn[19], line 10\u001b[1;36m\u001b[0m\n\u001b[1;33m    print(media)5\u001b[0m\n\u001b[1;37m                ^\u001b[0m\n\u001b[1;31mSyntaxError\u001b[0m\u001b[1;31m:\u001b[0m invalid syntax\n"
     ]
    }
   ],
   "source": [
    "#Mostra 3 notas e mostra a média\n",
    "\n",
    "nota1= float(input(\"Informe a primeira nota\"))\n",
    "nota2= float(input(\"Informe a segunda nota\"))\n",
    "nota3= float(input(\"Informe a terceira nota\"))\n",
    "\n",
    "media= (nota1+nota2+nota3)/3\n",
    "#media= soma/3\n",
    "\n",
    "print(media)"
   ]
  },
  {
   "cell_type": "code",
   "execution_count": 14,
   "metadata": {},
   "outputs": [
    {
     "name": "stdout",
     "output_type": "stream",
     "text": [
      "800.0\n"
     ]
    }
   ],
   "source": [
    "#Mostra o salário\n",
    "\n",
    "valorHora= float(input(\"Informe o valor da sua hora trabalhada\"))\n",
    "horasMes= float(input(\"Informe quantas horas trabalhou neste mês\"))\n",
    "\n",
    "salario= valorHora*horasMes\n",
    "print(salario)"
   ]
  },
  {
   "cell_type": "code",
   "execution_count": 24,
   "metadata": {},
   "outputs": [
    {
     "name": "stdout",
     "output_type": "stream",
     "text": [
      "Seu peso excedeu o permitido, o valor total foi: 60.0\n"
     ]
    }
   ],
   "source": [
    "#Informa multa de excesso\n",
    "\n",
    "peso= float(input(\"Informe o peso dos peixes pescados\"))\n",
    "\n",
    "if(peso > 50):\n",
    "    excedente= (peso-50)\n",
    "    multa= excedente *4\n",
    "    valorTotal= peso + (excedente *4)\n",
    "    print(\"Seu peso excedeu o permitido, o valor total foi:\", valorTotal)\n",
    "else:\n",
    "    print(\"Você não foi multado!\")"
   ]
  }
 ],
 "metadata": {
  "kernelspec": {
   "display_name": "Python 3",
   "language": "python",
   "name": "python3"
  },
  "language_info": {
   "codemirror_mode": {
    "name": "ipython",
    "version": 3
   },
   "file_extension": ".py",
   "mimetype": "text/x-python",
   "name": "python",
   "nbconvert_exporter": "python",
   "pygments_lexer": "ipython3",
   "version": "3.12.2"
  }
 },
 "nbformat": 4,
 "nbformat_minor": 2
}
